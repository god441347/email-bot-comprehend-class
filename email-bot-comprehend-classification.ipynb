{
 "cells": [
  {
   "cell_type": "code",
   "execution_count": 8,
   "id": "9aaaae05",
   "metadata": {},
   "outputs": [
    {
     "name": "stdout",
     "output_type": "stream",
     "text": [
      "Cloning into 'email-bot-comprehend-class'...\n",
      "remote: Enumerating objects: 3, done.\u001b[K\n",
      "remote: Counting objects: 100% (3/3), done.\u001b[K\n",
      "remote: Compressing objects: 100% (3/3), done.\u001b[K\n",
      "remote: Total 3 (delta 0), reused 0 (delta 0), pack-reused 0\u001b[K\n",
      "Unpacking objects: 100% (3/3), done.\n"
     ]
    }
   ],
   "source": [
    "#Download the file from github\n",
    "!git clone https://github.com/god441347/email-bot-comprehend-class.git\n",
    "!mkdir email-bot-comprehend-class/data\n",
    "!mv ./email-bot-comprehend-class/Comprehend_Training_Data.csv ./email-bot-comprehend-class/data/\n",
    "\n",
    "\n",
    "from sagemaker import get_execution_role\n"
   ]
  },
  {
   "cell_type": "code",
   "execution_count": 9,
   "id": "73c1064a",
   "metadata": {},
   "outputs": [
    {
     "data": {
      "text/plain": [
       "'arn:aws:iam::288947426911:role/service-role/AmazonSageMakerServiceCatalogProductsUseRole'"
      ]
     },
     "execution_count": 9,
     "metadata": {},
     "output_type": "execute_result"
    }
   ],
   "source": [
    "role = get_execution_role()\n",
    "role\n",
    "# S3 prefix\n",
    "prefix = 'email-classification'\n",
    "role"
   ]
  },
  {
   "cell_type": "code",
   "execution_count": 10,
   "id": "b29b86a5",
   "metadata": {},
   "outputs": [
    {
     "data": {
      "text/plain": [
       "'s3://sagemaker-us-west-2-288947426911/email-classification'"
      ]
     },
     "execution_count": 10,
     "metadata": {},
     "output_type": "execute_result"
    }
   ],
   "source": [
    "import sagemaker as sage\n",
    "sess = sage.Session()\n",
    "WORK_DIRECTORY = 'email-bot-comprehend-class/data'\n",
    "\n",
    "data_location = sess.upload_data(WORK_DIRECTORY, key_prefix=prefix)\n",
    "data_location"
   ]
  },
  {
   "cell_type": "code",
   "execution_count": 11,
   "id": "6a689078",
   "metadata": {},
   "outputs": [],
   "source": [
    "import boto3\n",
    "\n",
    "client = boto3.client('comprehend')\n",
    "\n",
    "response = client.create_document_classifier(\n",
    "    DocumentClassifierName='email-classification-new1',\n",
    "    DataAccessRoleArn='arn:aws:iam::288947426911:role/service-role/AmazonSageMaker-ExecutionRole-20210513T131928',\n",
    "    #DataAccessRoleArn=role,\n",
    "    InputDataConfig={\n",
    "        'S3Uri': data_location\n",
    "    },\n",
    "    #ClientRequestToken='string',\n",
    "    LanguageCode='en'\n",
    ")"
   ]
  },
  {
   "cell_type": "code",
   "execution_count": null,
   "id": "8b3fa88f",
   "metadata": {},
   "outputs": [],
   "source": []
  }
 ],
 "metadata": {
  "kernelspec": {
   "display_name": "conda_python3",
   "language": "python",
   "name": "conda_python3"
  },
  "language_info": {
   "codemirror_mode": {
    "name": "ipython",
    "version": 3
   },
   "file_extension": ".py",
   "mimetype": "text/x-python",
   "name": "python",
   "nbconvert_exporter": "python",
   "pygments_lexer": "ipython3",
   "version": "3.6.13"
  }
 },
 "nbformat": 4,
 "nbformat_minor": 5
}
