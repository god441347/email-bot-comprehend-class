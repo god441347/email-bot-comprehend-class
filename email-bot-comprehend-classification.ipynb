{
 "cells": [
  {
   "cell_type": "code",
   "execution_count": null,
   "id": "9aaaae05",
   "metadata": {},
   "outputs": [],
   "source": [
    "#Download the file from github\n",
    "!git clone https://github.com/god441347/email-bot-comprehend-class.git\n",
    "!mkdir email-bot-comprehend-class/data\n",
    "!mv ./email-bot-comprehend-class/Comprehend_Training_Data.csv ./email-bot-comprehend-class/data/\n",
    "\n",
    "\n",
    "from sagemaker import get_execution_role\n"
   ]
  },
  {
   "cell_type": "code",
   "execution_count": null,
   "id": "73c1064a",
   "metadata": {},
   "outputs": [],
   "source": [
    "role = get_execution_role()\n",
    "role\n",
    "# S3 prefix\n",
    "prefix = 'email-classification'\n",
    "role"
   ]
  },
  {
   "cell_type": "code",
   "execution_count": null,
   "id": "b29b86a5",
   "metadata": {},
   "outputs": [],
   "source": [
    "import sagemaker as sage\n",
    "sess = sage.Session()\n",
    "WORK_DIRECTORY = 'email-bot-comprehend-class/data'\n",
    "\n",
    "data_location = sess.upload_data(WORK_DIRECTORY, key_prefix=prefix)\n",
    "data_location"
   ]
  },
  {
   "cell_type": "code",
   "execution_count": null,
   "id": "6a689078",
   "metadata": {},
   "outputs": [],
   "source": [
    "import boto3\n",
    "\n",
    "client = boto3.client('comprehend')\n",
    "\n",
    "response = client.create_document_classifier(\n",
    "    DocumentClassifierName='email-classifications',\n",
    "    DataAccessRoleArn='arn:aws:iam::288947426911:role/service-role/AmazonSageMaker-ExecutionRole-20210513T131928',\n",
    "    #DataAccessRoleArn=role,\n",
    "    InputDataConfig={\n",
    "        'S3Uri': data_location\n",
    "    },\n",
    "    #ClientRequestToken='string',\n",
    "    LanguageCode='en'\n",
    ")"
   ]
  },
  {
   "cell_type": "code",
   "execution_count": null,
   "id": "8b3fa88f",
   "metadata": {},
   "outputs": [],
   "source": []
  }
 ],
 "metadata": {
  "kernelspec": {
   "display_name": "conda_python3",
   "language": "python",
   "name": "conda_python3"
  },
  "language_info": {
   "codemirror_mode": {
    "name": "ipython",
    "version": 3
   },
   "file_extension": ".py",
   "mimetype": "text/x-python",
   "name": "python",
   "nbconvert_exporter": "python",
   "pygments_lexer": "ipython3",
   "version": "3.6.13"
  }
 },
 "nbformat": 4,
 "nbformat_minor": 5
}